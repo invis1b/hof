{
 "cells": [
  {
   "cell_type": "code",
   "execution_count": 1,
   "metadata": {},
   "outputs": [],
   "source": [
    "import numpy as np"
   ]
  },
  {
   "cell_type": "code",
   "execution_count": 2,
   "metadata": {},
   "outputs": [],
   "source": [
    "def calculate_normv(v1,v2):\n",
    "    return np.cross(v1,v2)/(np.linalg.norm(np.cross(v1,v2)))"
   ]
  },
  {
   "cell_type": "code",
   "execution_count": 3,
   "metadata": {},
   "outputs": [],
   "source": [
    "def calculate_dihedral(v1,v2,v3,v4):\n",
    "    u1=v2-v1\n",
    "    u2=v3-v2\n",
    "    u3=v4-v3\n",
    "    norm1=calculate_normv(u1,u2)\n",
    "    norm2=calculate_normv(u2,u3)\n",
    "    cos1=np.dot(norm1,norm2)\n",
    "    sin1=np.dot(np.cross(norm1,norm2),u2)/np.linalg.norm(u2)\n",
    "    return np.arctan2(sin1,cos1)"
   ]
  },
  {
   "cell_type": "code",
   "execution_count": 4,
   "metadata": {},
   "outputs": [
    {
     "data": {
      "text/plain": [
       "-0.7853981633974483"
      ]
     },
     "execution_count": 4,
     "metadata": {},
     "output_type": "execute_result"
    }
   ],
   "source": [
    "calculate_dihedral(np.array([0,0,0]),np.array([1,0,0]),np.array([1,1,0]),np.array([0,1,-1]))"
   ]
  },
  {
   "cell_type": "code",
   "execution_count": 5,
   "metadata": {},
   "outputs": [],
   "source": [
    "import MDAnalysis as mda"
   ]
  },
  {
   "cell_type": "code",
   "execution_count": null,
   "metadata": {},
   "outputs": [],
   "source": []
  }
 ],
 "metadata": {
  "kernelspec": {
   "display_name": "Python 3 (ipykernel)",
   "language": "python",
   "name": "python3"
  },
  "language_info": {
   "codemirror_mode": {
    "name": "ipython",
    "version": 3
   },
   "file_extension": ".py",
   "mimetype": "text/x-python",
   "name": "python",
   "nbconvert_exporter": "python",
   "pygments_lexer": "ipython3",
   "version": "3.11.3"
  }
 },
 "nbformat": 4,
 "nbformat_minor": 2
}
